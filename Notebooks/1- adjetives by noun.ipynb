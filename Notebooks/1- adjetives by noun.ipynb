{
 "cells": [
  {
   "cell_type": "code",
   "execution_count": 1,
   "metadata": {},
   "outputs": [],
   "source": [
    "import csv\n",
    "import nltk"
   ]
  },
  {
   "cell_type": "markdown",
   "metadata": {},
   "source": [
    "### Looking for female roles"
   ]
  },
  {
   "cell_type": "markdown",
   "metadata": {},
   "source": [
    "### Auxiliar functions for getting adjetives\n"
   ]
  },
  {
   "cell_type": "markdown",
   "metadata": {},
   "source": [
    "Given one list of sentences already tagged like `[('In', 'IN'), ('1970s', 'CD'), ('London', 'NNP')]`, the function getNounPrase returns the Noun Phrase Chunks whose match with the regular expression of the variable `grammar`. Here we are looking for a pattern of determinant or posesive (optional) + one or more adjectives (with 'AND' between them) + Noun (or proper noun).\n",
    "\n",
    "Returns the NP-chunks.\n"
   ]
  },
  {
   "cell_type": "code",
   "execution_count": 2,
   "metadata": {},
   "outputs": [],
   "source": [
    "def getNounPhraseChucks(tags):\n",
    "    \n",
    "    grammar = \"NP: {<DT|PP|PRP\\$>?<JJ.*>+<CC>*<JJ.*>*<NN.*>}\"  # det(opcional), adj(cero, uno o más), nombre\n",
    "    cp = nltk.RegexpParser(grammar) # chunk parser\n",
    "    \n",
    "    npChucks = []\n",
    "    \n",
    "    for tag in tags:\n",
    "        result = cp.parse(tag)        \n",
    "        for i in result.subtrees(filter=lambda x: x.label() == 'NP'):\n",
    "            npChucks.append(i)\n",
    "    \n",
    "    return npChucks"
   ]
  },
  {
   "cell_type": "markdown",
   "metadata": {},
   "source": [
    "Test: "
   ]
  },
  {
   "cell_type": "code",
   "execution_count": 3,
   "metadata": {},
   "outputs": [
    {
     "data": {
      "text/plain": [
       "[Tree('NP', [('a', 'DT'), ('young', 'JJ'), ('grifter', 'NN')]),\n",
       " Tree('NP', [('young', 'JJ'), ('thieves', 'NNS')]),\n",
       " Tree('NP', [('her', 'PRP$'), ('wicked', 'JJ'), ('side', 'NN')]),\n",
       " Tree('NP', [('fashionable', 'JJ'), ('and', 'CC'), ('revenge-bent', 'JJ'), ('Cruella', 'NNP')])]"
      ]
     },
     "execution_count": 3,
     "metadata": {},
     "output_type": "execute_result"
    }
   ],
   "source": [
    "tagged_sentences = [\n",
    "                    # first sentence\n",
    "                    [('In', 'IN'), ('1970s', 'CD'), ('London', 'NNP'), ('amidst', 'VBD'), ('the', 'DT'), ('punk', 'NN'), ('rock', 'NN'), ('revolution', 'NN'), (',', ','), ('a', 'DT'), ('young', 'JJ'), ('grifter', 'NN'), ('named', 'VBN'), ('Estella', 'NNP'), ('is', 'VBZ'), ('determined', 'VBN'), ('to', 'TO'), ('make', 'VB'), ('a', 'DT'), ('name', 'NN'), ('for', 'IN'), ('herself', 'NN'), ('with', 'IN'), ('her', 'PRP$'), ('designs', 'NNS'), ('.', '.')], \n",
    "                    # sencond sentence\n",
    "                    [('She', 'PRP'), ('befriends', 'VBZ'), ('a', 'DT'), ('pair', 'NN'), ('of', 'IN'), ('young', 'JJ'), ('thieves', 'NNS'), ('who', 'WP'), ('appreciate', 'VBP'), ('her', 'PRP$'), ('appetite', 'NN'), ('for', 'IN'), ('mischief', 'NN'), (',', ','), ('and', 'CC'), ('together', 'RB'), ('they', 'PRP'), ('are', 'VBP'), ('able', 'JJ'), ('to', 'TO'), ('build', 'VB'), ('a', 'DT'), ('life', 'NN'), ('for', 'IN'), ('themselves', 'PRP'), ('on', 'IN'), ('the', 'DT'), ('London', 'NNP'), ('streets', 'NNS'), ('.', '.')], [('One', 'CD'), ('day', 'NN'), (',', ','), ('Estella', 'NNP'), ('’', 'NNP'), ('s', 'VBD'), ('flair', 'NN'), ('for', 'IN'), ('fashion', 'NN'), ('catches', 'VBZ'), ('the', 'DT'), ('eye', 'NN'), ('of', 'IN'), ('the', 'DT'), ('Baroness', 'NNP'), ('von', 'NNP'), ('Hellman', 'NNP'), (',', ','), ('a', 'DT'), ('fashion', 'NN'), ('legend', 'NN'), ('who', 'WP'), ('is', 'VBZ'), ('devastatingly', 'RB'), ('chic', 'JJ'), ('and', 'CC'), ('terrifyingly', 'RB'), ('haute', 'NN'), ('.', '.')], \n",
    "                    # third sentence\n",
    "                    [('But', 'CC'), ('their', 'PRP$'), ('relationship', 'NN'), ('sets', 'NNS'), ('in', 'IN'), ('motion', 'NN'), ('a', 'DT'), ('course', 'NN'), ('of', 'IN'), ('events', 'NNS'), ('and', 'CC'), ('revelations', 'NNS'), ('that', 'WDT'), ('will', 'MD'), ('cause', 'VB'), ('Estella', 'NNP'), ('to', 'TO'), ('embrace', 'VB'), ('her', 'PRP$'), ('wicked', 'JJ'), ('side', 'NN'), ('and', 'CC'), ('become', 'VB'), ('the', 'DT'), ('raucous', 'JJ'), (',', ','), ('fashionable', 'JJ'), ('and', 'CC'), ('revenge-bent', 'JJ'), ('Cruella', 'NNP'), ('.', '.')]]\n",
    "\n",
    "getNounPhraseChucks(tagged_sentences)"
   ]
  },
  {
   "cell_type": "markdown",
   "metadata": {},
   "source": [
    "Given a sentence, the function `getTokensTagsAndNPs` returns a `tree` with \n",
    "**noun phrase chunks** whose match with the regular expression labered as `grammar` and their \n",
    "**words** identified as their **grammar category** (verbs, determinants, adjetives, nouns...)\n"
   ]
  },
  {
   "cell_type": "code",
   "execution_count": 4,
   "metadata": {},
   "outputs": [],
   "source": [
    "def getTokensTagsAndNPs(overview):\n",
    "    sentences = nltk.sent_tokenize(overview) # split in sentences\n",
    "    tokens = [nltk.word_tokenize(sent) for sent in sentences] #split in words (tokens)\n",
    "    tags = [nltk.pos_tag(token) for token in tokens] #add tag (noun, verb, adj...)\n",
    "    expressions = getNounPhraseChucks(tags)\n",
    "    return expressions"
   ]
  },
  {
   "cell_type": "markdown",
   "metadata": {},
   "source": [
    "Test:"
   ]
  },
  {
   "cell_type": "code",
   "execution_count": 5,
   "metadata": {
    "scrolled": true
   },
   "outputs": [
    {
     "data": {
      "text/plain": [
       "[Tree('NP', [('a', 'DT'), ('well-meaning', 'JJ'), ('but', 'CC'), ('selfish', 'JJ'), ('young', 'JJ'), ('woman', 'NN')])]"
      ]
     },
     "execution_count": 5,
     "metadata": {},
     "output_type": "execute_result"
    }
   ],
   "source": [
    "overview = 'In 1970s London amidst the punk rock revolution, a young grifter named Estella is determined to make a name for herself with her designs. ' \\\n",
    "       'She befriends a pair of young thieves who appreciate her appetite for mischief, and together they are able to build a life for themselves on the London streets. ' \\\n",
    "       'One day, Estella’s flair for fashion catches the eye of the Baroness von Hellman, a fashion legend who is devastatingly chic and terrifyingly haute. '\\\n",
    "       'But their relationship sets in motion a course of events and revelations that will cause Estella to embrace her wicked side and become the raucous, fashionable and revenge-bent Cruella.'\n",
    "\n",
    "overview = 'In 1800s England, a well-meaning but selfish young woman meddles in the love lives of her friends.'\n",
    "result = getTokensTagsAndNPs(overview)\n",
    "\n",
    "result"
   ]
  },
  {
   "cell_type": "code",
   "execution_count": null,
   "metadata": {},
   "outputs": [],
   "source": []
  },
  {
   "cell_type": "code",
   "execution_count": 6,
   "metadata": {},
   "outputs": [],
   "source": [
    "#woman synonyms\n",
    "female = ['female', 'woman', 'women', 'lady', 'ladies','dame', 'girl', 'girls', 'housewife', 'wife', 'girlfriend', 'daughter','sister', 'mother', 'stepmother', 'aunt', 'grandmother', 'gentlewoman']\n",
    "#man synonyms\n",
    "male =   ['man','men', 'gentleman', 'dude', 'guy', 'guys', 'boy', 'boys', 'child', 'male', 'husband', 'boyfriend', 'son', 'brother', 'father', 'stepfather', 'uncle', 'grandfather']\n"
   ]
  },
  {
   "cell_type": "code",
   "execution_count": 7,
   "metadata": {},
   "outputs": [],
   "source": [
    "def isChuckPersonalFemale(chuck):\n",
    "    for item in chuck:            \n",
    "        if item[0] in female:\n",
    "            return True    \n",
    "    return False\n",
    "\n",
    "def isChuckPersonalMale(chuck):\n",
    "    for item in chuck:            \n",
    "        if item[0] in male:\n",
    "            return True    \n",
    "    return False"
   ]
  },
  {
   "cell_type": "markdown",
   "metadata": {},
   "source": [
    "Function comment"
   ]
  },
  {
   "cell_type": "code",
   "execution_count": 8,
   "metadata": {},
   "outputs": [],
   "source": [
    "def getPersonalChucks(chucks):\n",
    "    \n",
    "    personal_chucks_female=[]\n",
    "    personal_chucks_male=[]\n",
    "    for ch in chucks:\n",
    "        if isChuckPersonalFemale(ch):\n",
    "            personal_chucks_female.append(ch)\n",
    "        if isChuckPersonalMale(ch):\n",
    "            personal_chucks_male.append(ch)\n",
    "        \n",
    "    return (personal_chucks_female, personal_chucks_male)\n",
    "    \n",
    "    "
   ]
  },
  {
   "cell_type": "markdown",
   "metadata": {},
   "source": [
    "Test: "
   ]
  },
  {
   "cell_type": "code",
   "execution_count": 9,
   "metadata": {
    "scrolled": true
   },
   "outputs": [
    {
     "name": "stdout",
     "output_type": "stream",
     "text": [
      "([Tree('NP', [('a', 'DT'), ('young', 'JJ'), ('mother', 'NN')]), Tree('NP', [('unmarried', 'JJ'), ('women', 'NNS')]), Tree('NP', [('his', 'PRP$'), ('pregnant', 'JJ'), ('wife', 'NN')])], [])\n"
     ]
    }
   ],
   "source": [
    "from nltk import Tree\n",
    "result = [Tree('NP', [('its', 'PRP$'), ('future', 'JJ'), ('sets', 'NNS')]), \n",
    "          Tree('NP', [('a', 'DT'), ('young', 'JJ'), ('mother', 'NN')]),\n",
    "          Tree('NP', [('powerful', 'JJ'), ('forces', 'NNS')]), \n",
    "          Tree('NP', [('unmarried', 'JJ'), ('women', 'NNS')]),\n",
    "          Tree('NP', [('a', 'DT'), ('spectacular', 'JJ'), ('battle', 'NN')]), \n",
    "          Tree('NP', [('his', 'PRP$'), ('pregnant', 'JJ'), ('wife', 'NN')])]\n",
    "\n",
    "print(getPersonalChucks(result))\n"
   ]
  },
  {
   "cell_type": "code",
   "execution_count": 10,
   "metadata": {},
   "outputs": [],
   "source": [
    "def getSegments(chunk, year, movieId):\n",
    "    \n",
    "    segments = []\n",
    "    segments.append(year) #add the movie release year for each segment    \n",
    "    segments.append(movieId) #add the movie Id for each segment   \n",
    "    \n",
    "    for element in chunk:\n",
    "        if element[1] != 'PRP$' and element[1] != 'DT' and element[1] != 'CC':\n",
    "            segments.append(element[0].lower())\n",
    "    \n",
    "    return segments\n",
    "        \n",
    "        "
   ]
  },
  {
   "cell_type": "markdown",
   "metadata": {},
   "source": [
    "Given a row or line of the CSV where we have the details of the movie (id, title, 4 characters and overview) as an argument, the function `printAdjetives` prints the NP chucks of the overview:"
   ]
  },
  {
   "cell_type": "code",
   "execution_count": 11,
   "metadata": {},
   "outputs": [],
   "source": [
    "def getAdjetives(row, year):\n",
    "    \n",
    "    movieId = row[0]\n",
    "    title = row[1]\n",
    "    overview = row[14]\n",
    "    chucks = getTokensTagsAndNPs(overview)\n",
    "    personal_chucks_female, personal_chucks_male = getPersonalChucks(chucks)\n",
    "    \n",
    "    female_segments = []\n",
    "    male_segments = []\n",
    "    \n",
    "    if len(personal_chucks_female) > 0 or len(personal_chucks_male) > 0:        \n",
    "        \n",
    "        if len(personal_chucks_female) > 0:\n",
    "            for chunk in personal_chucks_female:               \n",
    "                female_segments.append(getSegments(chunk, year, movieId))                 \n",
    "        \n",
    "        if len(personal_chucks_male) > 0:\n",
    "            for chunk in personal_chucks_male:\n",
    "                male_segments.append(getSegments(chunk, year, movieId))\n",
    "                \n",
    "        \n",
    "    return female_segments, male_segments"
   ]
  },
  {
   "cell_type": "markdown",
   "metadata": {},
   "source": [
    "Test:"
   ]
  },
  {
   "cell_type": "code",
   "execution_count": 12,
   "metadata": {},
   "outputs": [
    {
     "data": {
      "text/plain": [
       "[[2021, '337404', 'young', 'girl'], [2021, '337404', 'young', 'women']]"
      ]
     },
     "execution_count": 12,
     "metadata": {},
     "output_type": "execute_result"
    }
   ],
   "source": [
    "row = ['337404', 'Cruella', \n",
    "       'Estella / Cruella', 'Emma Stone', '54693', \n",
    "       'The Baroness', 'Emma Thompson', '7056', \n",
    "       'Jasper', 'Joel Fry', '54811', 'Horace', \n",
    "       'Paul Walter Hauser', '1294982', \n",
    "       'In 1970s London amidst the punk rock revolution, a young girl named Estella is determined to make a name for herself with her designs. ' \\\n",
    "       'She befriends a pair of young women who appreciate her appetite for mischief, and together they are able to build a life for themselves on the London streets. ' \\\n",
    "       'One day, Estella’s flair for fashion catches the eye of the Baroness von Hellman, a fashion legend who is devastatingly chic and terrifyingly haute. '\\\n",
    "       'But their relationship sets in motion a course of events and revelations that will cause Estella to embrace her wicked side and become the raucous, fashionable and revenge-bent Cruella.']\n",
    "\n",
    "female_segments, male_segments = getAdjetives(row, 2021)\n",
    "female_segments"
   ]
  },
  {
   "cell_type": "markdown",
   "metadata": {},
   "source": [
    "   Open CSV:"
   ]
  },
  {
   "cell_type": "code",
   "execution_count": 13,
   "metadata": {
    "scrolled": false
   },
   "outputs": [],
   "source": [
    "total_female_segments = []\n",
    "total_male_segments = []\n",
    "    \n",
    "\n",
    "for year in range(1970, 2022):\n",
    "    file_title = 'csv/movies_'+str(year)+'.csv'\n",
    "    with open(file_title, mode='r',  encoding='utf-8') as file:\n",
    "        csvFile = csv.reader(file, delimiter = ';')\n",
    "\n",
    "        csv_headings = next(csvFile)   # print (csv_headings)\n",
    "\n",
    "        for line in csvFile:\n",
    "            female_segments, male_segments = getAdjetives(line, year)\n",
    "\n",
    "            if len(female_segments) > 0:\n",
    "                for segment in female_segments:\n",
    "                    total_female_segments.append(segment)\n",
    "\n",
    "            if len(male_segments) > 0:\n",
    "                for segment in male_segments:\n",
    "                    total_male_segments.append(segment)\n",
    "       \n",
    "        \n"
   ]
  },
  {
   "cell_type": "code",
   "execution_count": 14,
   "metadata": {},
   "outputs": [
    {
     "name": "stdout",
     "output_type": "stream",
     "text": [
      "female: \n",
      "2191\n",
      "male: \n",
      "2030\n"
     ]
    }
   ],
   "source": [
    "print(\"female: \")\n",
    "print(len(total_female_segments))\n",
    "print(\"male: \")\n",
    "print(len(total_male_segments))"
   ]
  },
  {
   "cell_type": "markdown",
   "metadata": {},
   "source": [
    "Write to csv"
   ]
  },
  {
   "cell_type": "code",
   "execution_count": 15,
   "metadata": {},
   "outputs": [],
   "source": [
    "def getRowFromSegment(segment):\n",
    "    row = []\n",
    "    \n",
    "    #add year\n",
    "    row.append(segment[0])\n",
    "    #add movie id\n",
    "    row.append(segment[1])\n",
    "    \n",
    "    #add three adjetives\n",
    "    if len(segment) == 4:\n",
    "        #one adjetive\n",
    "        row.append(segment[2])\n",
    "        row.append('')\n",
    "        row.append('')\n",
    "        row.append('')\n",
    "        \n",
    "    elif len(segment) == 5:\n",
    "        # two adjetives\n",
    "        row.append(segment[2])\n",
    "        row.append(segment[3])\n",
    "        row.append('')\n",
    "        row.append('')\n",
    "        \n",
    "    elif len(segment) == 6:\n",
    "        #three adjetives\n",
    "        row.append(segment[2])\n",
    "        row.append(segment[3])\n",
    "        row.append(segment[4])\n",
    "        row.append('')\n",
    "        \n",
    "    elif len(segment) == 7:\n",
    "        #four adjetives\n",
    "        row.append(segment[2])\n",
    "        row.append(segment[3])\n",
    "        row.append(segment[4])\n",
    "        row.append(segment[5])\n",
    "        \n",
    "    else:\n",
    "        print(\"Error! more than four adjetives!!!??\")\n",
    "        print(\"segment: \", segment)\n",
    "        row.append(segment[2])\n",
    "        row.append(segment[3])\n",
    "        row.append(segment[4])\n",
    "        row.append(segment[5])\n",
    "    \n",
    "    #add noun\n",
    "    row.append(segment[len(segment)-1])\n",
    "    \n",
    "    return row"
   ]
  },
  {
   "cell_type": "code",
   "execution_count": 16,
   "metadata": {},
   "outputs": [
    {
     "name": "stdout",
     "output_type": "stream",
     "text": [
      "[2019, 689523, 'black', '', '', '', 'woman']\n",
      "[2019, 689523, 'black', 'old', '', '', 'woman']\n",
      "[2019, 689523, 'black', 'old', 'pretty', '', 'woman']\n",
      "[2019, 689523, 'black', 'old', 'pretty', 'blonde', 'woman']\n",
      "Error! more than four adjetives!!!??\n",
      "segment:  [2019, 689523, 'black', 'old', 'pretty', 'blonde', 'selfish', 'woman']\n",
      "[2019, 689523, 'black', 'old', 'pretty', 'blonde', 'woman']\n"
     ]
    }
   ],
   "source": [
    "segment = [2019, 689523, 'black', 'woman']\n",
    "print(getRowFromSegment(segment))\n",
    "\n",
    "segment = [2019, 689523, 'black', 'old', 'woman']\n",
    "print(getRowFromSegment(segment))\n",
    "\n",
    "segment = [2019, 689523,  'black', 'old', 'pretty', 'woman']\n",
    "print(getRowFromSegment(segment))\n",
    "\n",
    "segment = [2019, 689523,  'black', 'old', 'pretty', 'blonde', 'woman']\n",
    "print(getRowFromSegment(segment))\n",
    "\n",
    "segment = [2019, 689523,  'black', 'old', 'pretty', 'blonde', 'selfish', 'woman']\n",
    "print(getRowFromSegment(segment))"
   ]
  },
  {
   "cell_type": "code",
   "execution_count": 17,
   "metadata": {},
   "outputs": [
    {
     "name": "stdout",
     "output_type": "stream",
     "text": [
      "Error! more than four adjetives!!!??\n",
      "segment:  [1973, '70781', 'beautiful', 'thoroughly', 'modern', 'young', 'french', 'women']\n"
     ]
    }
   ],
   "source": [
    "header = ['year', 'movieid', 'adj1', 'adj2', 'adj3', 'adj4', 'noun']\n",
    "\n",
    "# open the file in the write mode\n",
    "female_file = open('csv/female_file.csv', 'w', encoding='UTF8', newline='')\n",
    "\n",
    "# create the csv writer\n",
    "female_writer = csv.writer(female_file, delimiter = ';')\n",
    "\n",
    "# write the header to the csv file\n",
    "female_writer.writerow(header)\n",
    "\n",
    "for segment in total_female_segments:\n",
    "    # write a row to the csv file\n",
    "    female_writer.writerow(getRowFromSegment(segment))\n",
    "\n",
    "# close the file\n",
    "female_file.close()"
   ]
  },
  {
   "cell_type": "code",
   "execution_count": 18,
   "metadata": {},
   "outputs": [],
   "source": [
    "header = ['year', 'adj1', 'adj2', 'adj3', 'adj4', 'noun']\n",
    "\n",
    "# open the file in the write mode\n",
    "male_file = open('csv/male_file.csv', 'w', encoding='UTF8', newline='')\n",
    "\n",
    "# create the csv writer\n",
    "male_writer = csv.writer(male_file, delimiter = ';')\n",
    "\n",
    "# write the header to the csv file\n",
    "male_writer.writerow(header)\n",
    "\n",
    "for segment in total_male_segments:\n",
    "    # write a row to the csv file\n",
    "    male_writer.writerow(getRowFromSegment(segment))\n",
    "\n",
    "# close the file\n",
    "male_file.close()"
   ]
  },
  {
   "cell_type": "code",
   "execution_count": null,
   "metadata": {},
   "outputs": [],
   "source": [
    "        "
   ]
  }
 ],
 "metadata": {
  "kernelspec": {
   "display_name": "Python 3.7 - default",
   "language": "python",
   "name": "py37_default"
  },
  "language_info": {
   "codemirror_mode": {
    "name": "ipython",
    "version": 3
   },
   "file_extension": ".py",
   "mimetype": "text/x-python",
   "name": "python",
   "nbconvert_exporter": "python",
   "pygments_lexer": "ipython3",
   "version": "3.7.7"
  }
 },
 "nbformat": 4,
 "nbformat_minor": 4
}
