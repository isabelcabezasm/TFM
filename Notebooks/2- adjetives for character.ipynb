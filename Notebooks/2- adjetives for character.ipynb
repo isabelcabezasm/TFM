{
 "cells": [
  {
   "cell_type": "code",
   "execution_count": 1,
   "metadata": {},
   "outputs": [],
   "source": [
    "import csv\n",
    "import nltk\n",
    "from nltk import Tree"
   ]
  },
  {
   "cell_type": "markdown",
   "metadata": {},
   "source": [
    "### Getting character\n"
   ]
  },
  {
   "cell_type": "markdown",
   "metadata": {},
   "source": [
    "Given an row of the CSV file as a parameter:\n",
    "\n",
    "e.g. *row = ['634649', 'Spider-Man: No Way Home', 'Peter Parker / Spider-Man', 'Tom Holland', 'Male', '1136406', \"Michelle 'MJ' Jones\", 'Zendaya', 'Female', '505710', 'Stephen Strange / Doctor Strange', 'Benedict Cumberbatch', 'Male', '71580', 'Ned Leeds', 'Jacob Batalon', 'Male', '1649152', 'Peter Parker is unmasked and no longer able to separate his normal life from the high-stakes of being a super-hero. When he asks for help from Doctor Strange the stakes become even more dangerous, forcing him to discover what it truly means to be Spider-Man.']*\n",
    "\n",
    "This function returns a list with the characters.\n",
    "Each character has the name (or names) of the characters, the gender of the actor and the id of the actor (person id in the DB).\n",
    "\n",
    "e.g. *[['Peter Parker', 'Spider-Man', 'Male', '1136406'], [\"Michelle 'MJ' Jones\", 'Female', '505710'], ['Stephen Strange', 'Doctor Strange', 'Male', '71580'], ['Ned Leeds', 'Male', '1649152']]*\n",
    "\n",
    "\n",
    "\n",
    "\n"
   ]
  },
  {
   "cell_type": "code",
   "execution_count": 2,
   "metadata": {},
   "outputs": [],
   "source": [
    "def getCharacters(row):\n",
    "    \n",
    "    characters = []    \n",
    "    \n",
    "    characterNames1 = list(map(str.strip, row[2].split('/')))\n",
    "    character1 = []\n",
    "    for name in characterNames1:\n",
    "        character1.append(name)\n",
    "    character1.append(row[4])\n",
    "    character1.append(row[5])\n",
    "    characters.append(character1)\n",
    "    \n",
    "    characterNames2 = list(map(str.strip, row[6].split('/')))    \n",
    "    character2 = []\n",
    "    for name in characterNames2:\n",
    "        character2.append(name)\n",
    "    character2.append(row[8])\n",
    "    character2.append(row[9])\n",
    "    characters.append(character2)\n",
    "        \n",
    "    characterNames3 = list(map(str.strip, row[10].split('/')))    \n",
    "    character3 = []\n",
    "    for name in characterNames3:\n",
    "        character3.append(name)\n",
    "    character3.append(row[12])\n",
    "    character3.append(row[13])\n",
    "    characters.append(character3)\n",
    "    \n",
    "        \n",
    "    characterNames4 = list(map(str.strip, row[14].split('/')))\n",
    "    character4 = []\n",
    "    for name in characterNames4:\n",
    "        character4.append(name)\n",
    "    character4.append(row[16])\n",
    "    character4.append(row[17])\n",
    "    characters.append(character4)\n",
    "    \n",
    "    return characters\n",
    "    "
   ]
  },
  {
   "cell_type": "code",
   "execution_count": 3,
   "metadata": {
    "scrolled": true
   },
   "outputs": [
    {
     "name": "stdout",
     "output_type": "stream",
     "text": [
      "[['Peter Parker', 'Spider-Man', 'Male', '1136406'], [\"Michelle 'MJ' Jones\", 'Female', '505710'], ['Stephen Strange', 'Doctor Strange', 'Male', '71580'], ['Ned Leeds', 'Male', '1649152']]\n"
     ]
    }
   ],
   "source": [
    "# Test\n",
    "row = ['634649', 'Spider-Man: No Way Home', 'Peter Parker / Spider-Man', 'Tom Holland', 'Male', '1136406', \"Michelle 'MJ' Jones\", 'Zendaya', 'Female', '505710', 'Stephen Strange / Doctor Strange', 'Benedict Cumberbatch', 'Male', '71580', 'Ned Leeds', 'Jacob Batalon', 'Male', '1649152', 'Peter Parker is unmasked and no longer able to separate his normal life from the high-stakes of being a super-hero. When he asks for help from Doctor Strange the stakes become even more dangerous, forcing him to discover what it truly means to be Spider-Man.']\n",
    "print(getCharacters (row))"
   ]
  },
  {
   "cell_type": "markdown",
   "metadata": {},
   "source": [
    "-----"
   ]
  },
  {
   "cell_type": "markdown",
   "metadata": {},
   "source": [
    "### Getting character names"
   ]
  },
  {
   "cell_type": "markdown",
   "metadata": {},
   "source": [
    "Given an row of the CSV file as a parameter:\n",
    "\n",
    "e.g. *row = ['634649', 'Spider-Man: No Way Home', 'Peter Parker / Spider-Man', 'Tom Holland', 'Male', '1136406', \"Michelle 'MJ' Jones\", 'Zendaya', 'Female', '505710', 'Stephen Strange / Doctor Strange', 'Benedict Cumberbatch', 'Male', '71580', 'Ned Leeds', 'Jacob Batalon', 'Male', '1649152', 'Peter Parker is unmasked and no longer able to separate his normal life from the high-stakes of being a super-hero. When he asks for help from Doctor Strange the stakes become even more dangerous, forcing him to discover what it truly means to be Spider-Man.']*\n",
    "\n",
    "This function returns a list with names of the character. Not split by character. \n",
    "\n",
    "e.g. *['Peter Parker', 'Spider-Man', \"Michelle 'MJ' Jones\", 'Stephen Strange', 'Doctor Strange', 'Ned Leeds']*\n"
   ]
  },
  {
   "cell_type": "code",
   "execution_count": 4,
   "metadata": {},
   "outputs": [],
   "source": [
    "def getCharacterNames(row):\n",
    "    \n",
    "    characterNames = []    \n",
    "    \n",
    "    characterNames1 = list(map(str.strip, row[2].split('/')))\n",
    "    for name in characterNames1:\n",
    "        characterNames.append(name)\n",
    "    \n",
    "    characterNames2 = list(map(str.strip, row[6].split('/')))    \n",
    "    for name in characterNames2:\n",
    "        characterNames.append(name)\n",
    "        \n",
    "    characterNames3 = list(map(str.strip, row[10].split('/')))    \n",
    "    for name in characterNames3:\n",
    "        characterNames.append(name)\n",
    "        \n",
    "    characterNames4 = list(map(str.strip, row[14].split('/')))\n",
    "    for name in characterNames4:\n",
    "        characterNames.append(name)\n",
    "    \n",
    "    return characterNames\n",
    "    "
   ]
  },
  {
   "cell_type": "code",
   "execution_count": 5,
   "metadata": {
    "scrolled": true
   },
   "outputs": [
    {
     "name": "stdout",
     "output_type": "stream",
     "text": [
      "['Peter Parker', 'Spider-Man', \"Michelle 'MJ' Jones\", 'Stephen Strange', 'Doctor Strange', 'Ned Leeds']\n"
     ]
    }
   ],
   "source": [
    "# Test\n",
    "row = ['634649', 'Spider-Man: No Way Home', 'Peter Parker / Spider-Man', 'Tom Holland', 'Male', '1136406', \"Michelle 'MJ' Jones\", 'Zendaya', 'Female', '505710', 'Stephen Strange / Doctor Strange', 'Benedict Cumberbatch', 'Male', '71580', 'Ned Leeds', 'Jacob Batalon', 'Male', '1649152', 'Peter Parker is unmasked and no longer able to separate his normal life from the high-stakes of being a super-hero. When he asks for help from Doctor Strange the stakes become even more dangerous, forcing him to discover what it truly means to be Spider-Man.']\n",
    "print(getCharacterNames (row))"
   ]
  },
  {
   "cell_type": "markdown",
   "metadata": {},
   "source": [
    "----"
   ]
  },
  {
   "cell_type": "markdown",
   "metadata": {},
   "source": [
    "### Getting characters\n",
    "\n",
    "Given an row of the CSV file as a parameter:\n",
    "\n",
    "e.g. *row = ['634649', 'Spider-Man: No Way Home', 'Peter Parker / Spider-Man', 'Tom Holland', 'Male', '1136406', \"Michelle 'MJ' Jones\", 'Zendaya', 'Female', '505710', 'Stephen Strange / Doctor Strange', 'Benedict Cumberbatch', 'Male', '71580', 'Ned Leeds', 'Jacob Batalon', 'Male', '1649152', 'Peter Parker is unmasked and no longer able to separate his normal life from the high-stakes of being a super-hero. When he asks for help from Doctor Strange the stakes become even more dangerous, forcing him to discover what it truly means to be Spider-Man.']*\n",
    "\n",
    "This function returns a list with the characters. \n",
    "Each character is represented by one list, where the first item is the name (or names) of the characters, and then, \n",
    "the gender of the actor and the id of the actor (person id in the DB).\n",
    "\n",
    "e.g. *[[['Peter Parker', 'Spider-Man'], 'Male', '1136406'], [[\"Michelle 'MJ' Jones\"], 'Female', '505710'], [['Stephen Strange', 'Doctor Strange'], 'Male', '71580'], [['Ned Leeds'], 'Male', '1649152']]*\n",
    "\n"
   ]
  },
  {
   "cell_type": "code",
   "execution_count": 6,
   "metadata": {},
   "outputs": [],
   "source": [
    "def getCharacter(row):\n",
    "    \n",
    "    characters = []    \n",
    "    \n",
    "    characterNames1 = list(map(str.strip, row[2].split('/')))\n",
    "    character1 = []\n",
    "    character1.append(characterNames1)\n",
    "    character1.append(row[4])\n",
    "    character1.append(row[5])\n",
    "    characters.append(character1)    \n",
    "    \n",
    "    characterNames2 = list(map(str.strip, row[6].split('/')))   \n",
    "    character2 = []\n",
    "    character2.append(characterNames2)\n",
    "    character2.append(row[8])\n",
    "    character2.append(row[9])\n",
    "    characters.append(character2)\n",
    "            \n",
    "    characterNames3 = list(map(str.strip, row[10].split('/')))    \n",
    "    character3= []\n",
    "    character3.append(characterNames3)\n",
    "    character3.append(row[12])\n",
    "    character3.append(row[13])\n",
    "    characters.append(character3)\n",
    "            \n",
    "    characterNames4 = list(map(str.strip, row[14].split('/')))\n",
    "    character4= []\n",
    "    character4.append(characterNames4)\n",
    "    character4.append(row[16])\n",
    "    character4.append(row[17])\n",
    "    characters.append(character4)\n",
    "    \n",
    "    return characters"
   ]
  },
  {
   "cell_type": "code",
   "execution_count": 7,
   "metadata": {
    "scrolled": true
   },
   "outputs": [
    {
     "name": "stdout",
     "output_type": "stream",
     "text": [
      "[[['Peter Parker', 'Spider-Man'], 'Male', '1136406'], [[\"Michelle 'MJ' Jones\"], 'Female', '505710'], [['Stephen Strange', 'Doctor Strange'], 'Male', '71580'], [['Ned Leeds'], 'Male', '1649152']]\n"
     ]
    }
   ],
   "source": [
    "# Test\n",
    "row = ['634649', 'Spider-Man: No Way Home', 'Peter Parker / Spider-Man', 'Tom Holland', 'Male', '1136406', \"Michelle 'MJ' Jones\", 'Zendaya', 'Female', '505710', 'Stephen Strange / Doctor Strange', 'Benedict Cumberbatch', 'Male', '71580', 'Ned Leeds', 'Jacob Batalon', 'Male', '1649152', 'Peter Parker is unmasked and no longer able to separate his normal life from the high-stakes of being a super-hero. When he asks for help from Doctor Strange the stakes become even more dangerous, forcing him to discover what it truly means to be Spider-Man.']\n",
    "print(getCharacter (row))"
   ]
  },
  {
   "cell_type": "code",
   "execution_count": 8,
   "metadata": {},
   "outputs": [],
   "source": [
    "def getNamesByCharacter(row):\n",
    "    \n",
    "    characterNames = []    \n",
    "    \n",
    "    characterNames1 = list(map(str.strip, row[2].split('/')))\n",
    "    characterNames.append(characterNames1)\n",
    "    \n",
    "    characterNames2 = list(map(str.strip, row[6].split('/')))    \n",
    "    characterNames.append(characterNames2)\n",
    "        \n",
    "    characterNames3 = list(map(str.strip, row[10].split('/')))    \n",
    "    characterNames.append(characterNames3)\n",
    "        \n",
    "    characterNames4 = list(map(str.strip, row[14].split('/')))\n",
    "    characterNames.append(characterNames4)\n",
    "    \n",
    "    return characterNames"
   ]
  },
  {
   "cell_type": "code",
   "execution_count": 9,
   "metadata": {
    "scrolled": true
   },
   "outputs": [
    {
     "name": "stdout",
     "output_type": "stream",
     "text": [
      "[['Peter Parker', 'Spider-Man'], [\"Michelle 'MJ' Jones\"], ['Stephen Strange', 'Doctor Strange'], ['Ned Leeds']]\n"
     ]
    }
   ],
   "source": [
    "# Test\n",
    "row = ['634649', 'Spider-Man: No Way Home', 'Peter Parker / Spider-Man', 'Tom Holland', 'Male', '1136406', \"Michelle 'MJ' Jones\", 'Zendaya', 'Female', '505710', 'Stephen Strange / Doctor Strange', 'Benedict Cumberbatch', 'Male', '71580', 'Ned Leeds', 'Jacob Batalon', 'Male', '1649152', 'Peter Parker is unmasked and no longer able to separate his normal life from the high-stakes of being a super-hero. When he asks for help from Doctor Strange the stakes become even more dangerous, forcing him to discover what it truly means to be Spider-Man.']\n",
    "print(getNamesByCharacter (row))"
   ]
  },
  {
   "cell_type": "markdown",
   "metadata": {},
   "source": [
    "-----"
   ]
  },
  {
   "cell_type": "markdown",
   "metadata": {},
   "source": [
    "### Get Sentences where a character is named"
   ]
  },
  {
   "cell_type": "markdown",
   "metadata": {},
   "source": [
    "Given an row of the CSV file as a parameter:\n",
    "\n",
    "e.g. *row = ['634649', 'Spider-Man: No Way Home', 'Peter Parker / Spider-Man', 'Tom Holland', 'Male', '1136406', \"Michelle 'MJ' Jones\", 'Zendaya', 'Female', '505710', 'Stephen Strange / Doctor Strange', 'Benedict Cumberbatch', 'Male', '71580', 'Ned Leeds', 'Jacob Batalon', 'Male', '1649152', 'Peter Parker is unmasked and no longer able to separate his normal life from the high-stakes of being a super-hero. When he asks for help from Doctor Strange the stakes become even more dangerous, forcing him to discover what it truly means to be Spider-Man.']*\n",
    "\n",
    "This function returns only the sentences where a character is named + the name of the character + the gender or the caracter + the person id. \n",
    "\n",
    "eg. *[[['Peter Parker', 'Spider-Man'], 'Male', '1136406'], 'Peter Parker is unmasked and no longer able to separate his normal life from the high-stakes of being a super-hero.']\n",
    "[[['Peter Parker', 'Spider-Man'], 'Male', '1136406'], 'When he asks for help from Doctor Strange the stakes become even more dangerous, forcing him to discover what it truly means to be Spider-Man.']\n",
    "[[['Stephen Strange', 'Doctor Strange'], 'Male', '71580'], 'When he asks for help from Doctor Strange the stakes become even more dangerous, forcing him to discover what it truly means to be Spider-Man.']*\n"
   ]
  },
  {
   "cell_type": "code",
   "execution_count": 10,
   "metadata": {},
   "outputs": [],
   "source": [
    "def getSentencesAboutAnyCharacter(row):\n",
    "    \n",
    "    characters = getCharacter(row)    \n",
    "    overview = row[18]    \n",
    "    \n",
    "    sentencesThatMentionCharacters = []\n",
    "    \n",
    "    for sentence in nltk.sent_tokenize(overview):        \n",
    "        for character in characters:            \n",
    "            for name in character[0]:                \n",
    "                if name in sentence:\n",
    "                    sentencesThatMentionCharacters.append([character, sentence])\n",
    "                    break\n",
    "        \n",
    "    return sentencesThatMentionCharacters\n",
    "        "
   ]
  },
  {
   "cell_type": "code",
   "execution_count": 11,
   "metadata": {
    "scrolled": true
   },
   "outputs": [
    {
     "name": "stdout",
     "output_type": "stream",
     "text": [
      "[[['Peter Parker', 'Spider-Man'], 'Male', '1136406'], 'Peter Parker is unmasked and no longer able to separate his normal life from the high-stakes of being a super-hero.']\n",
      "[[['Peter Parker', 'Spider-Man'], 'Male', '1136406'], 'When he asks for help from Doctor Strange the stakes become even more dangerous, forcing him to discover what it truly means to be Spider-Man.']\n",
      "[[['Stephen Strange', 'Doctor Strange'], 'Male', '71580'], 'When he asks for help from Doctor Strange the stakes become even more dangerous, forcing him to discover what it truly means to be Spider-Man.']\n"
     ]
    }
   ],
   "source": [
    "# test\n",
    "row = ['634649', 'Spider-Man: No Way Home', 'Peter Parker / Spider-Man', 'Tom Holland', 'Male', '1136406', \"Michelle 'MJ' Jones\", 'Zendaya', 'Female', '505710', 'Stephen Strange / Doctor Strange', 'Benedict Cumberbatch', 'Male', '71580', 'Ned Leeds', 'Jacob Batalon', 'Male', '1649152', 'Peter Parker is unmasked and no longer able to separate his normal life from the high-stakes of being a super-hero. When he asks for help from Doctor Strange the stakes become even more dangerous, forcing him to discover what it truly means to be Spider-Man.']\n",
    "\n",
    "for sentence in getSentencesAboutAnyCharacter(row):\n",
    "    print(sentence)\n"
   ]
  },
  {
   "cell_type": "code",
   "execution_count": 12,
   "metadata": {},
   "outputs": [
    {
     "name": "stdout",
     "output_type": "stream",
     "text": [
      "[]\n"
     ]
    }
   ],
   "source": [
    "# test\n",
    "row = ['399566', 'Godzilla vs. Kong', 'Dr. Nathan Lind', 'Alexander Skarsgård', 'Male', '28846', 'Madison Russell', 'Millie Bobby Brown', 'Female', '1356210', 'Dr. Ilene Andrews', 'Rebecca Hall', 'Female', '15556', 'Bernie Hayes', 'Brian Tyree Henry', 'Male', '226366', 'In a time when monsters walk the Earth, humanity’s fight for its future sets Godzilla and Kong on a collision course that will see the two most powerful forces of nature on the planet collide in a spectacular battle for the ages.']\n",
    "print(getSentencesAboutAnyCharacter(row))"
   ]
  },
  {
   "cell_type": "markdown",
   "metadata": {},
   "source": [
    "---"
   ]
  },
  {
   "cell_type": "markdown",
   "metadata": {},
   "source": [
    "### Get chunks from sentences where a character is named"
   ]
  },
  {
   "cell_type": "markdown",
   "metadata": {},
   "source": [
    "Given a list of tags (result of the method nltk.pos_tag) \n",
    "\n",
    "like: \n",
    "`tags = [nltk.pos_tag(token) for token in tokens]`\n",
    " \n",
    " \n",
    "e.g. *tags = [[('Peter', 'NNP'), ('Parker', 'NNP'), ('is', 'VBZ'), ('unmasked', 'JJ'), ('and', 'CC'), ('no', 'DT'), ('longer', 'RBR'), ('able', 'JJ'), ('to', 'TO'), ('separate', 'VB'), ('his', 'PRP$'), ('normal', 'JJ'), ('life', 'NN'), ('from', 'IN'), ('the', 'DT'), ('high-stakes', 'NNS'), ('of', 'IN'), ('being', 'VBG'), ('a', 'DT'), ('super-hero', 'NN'), ('.', '.')]]*\n",
    "\n",
    "This function returns only the `NP chunks` that match with the gramatical pattern:\n",
    "**{<DT|PP|PRP\\$>?<JJ.*>+<CC>*<JJ.*>*<NN.*>+}\"**\n",
    "\n",
    "e.g. *[Tree('NP', [('his', 'PRP$'), ('normal', 'JJ'), ('life', 'NN')])]*"
   ]
  },
  {
   "cell_type": "code",
   "execution_count": 13,
   "metadata": {},
   "outputs": [],
   "source": [
    "def getCharacterNounPhraseChunks(tags):\n",
    "    \n",
    "    grammar = \"NP: {<DT|PP|PRP\\$>?<JJ.*>+<CC>*<JJ.*>*<NN.*>+}\"  # det(opcional), adj(cero, uno o más), nombre\n",
    "    cp = nltk.RegexpParser(grammar) # chunk parser\n",
    "    \n",
    "    npChucks = []\n",
    "    \n",
    "    for tag in tags:\n",
    "        result = cp.parse(tag)        \n",
    "        for i in result.subtrees(filter=lambda x: x.label() == 'NP'):\n",
    "            npChucks.append(i)\n",
    "    \n",
    "    return npChucks"
   ]
  },
  {
   "cell_type": "code",
   "execution_count": 14,
   "metadata": {
    "scrolled": true
   },
   "outputs": [
    {
     "data": {
      "text/plain": [
       "[Tree('NP', [('his', 'PRP$'), ('normal', 'JJ'), ('life', 'NN')])]"
      ]
     },
     "execution_count": 14,
     "metadata": {},
     "output_type": "execute_result"
    }
   ],
   "source": [
    "#Test\n",
    "tags = [[('Peter', 'NNP'), ('Parker', 'NNP'), ('is', 'VBZ'), ('unmasked', 'JJ'), ('and', 'CC'), ('no', 'DT'), ('longer', 'RBR'), ('able', 'JJ'), ('to', 'TO'), ('separate', 'VB'), ('his', 'PRP$'), ('normal', 'JJ'), ('life', 'NN'), ('from', 'IN'), ('the', 'DT'), ('high-stakes', 'NNS'), ('of', 'IN'), ('being', 'VBG'), ('a', 'DT'), ('super-hero', 'NN'), ('.', '.')]]\n",
    "getCharacterNounPhraseChunks(tags)"
   ]
  },
  {
   "cell_type": "markdown",
   "metadata": {},
   "source": [
    "-----"
   ]
  },
  {
   "cell_type": "markdown",
   "metadata": {},
   "source": [
    "Given an overview of a movie as parameter: \n",
    "\n",
    "e.g. *overview= \"After finding a host body in investigative reporter Eddie Brock, the alien symbiote must face a new enemy, Carnage, the alter ego of serial killer Cletus Kasady.\"*\n",
    "\n",
    "This function returns only the NP chunks that match with the gramatical pattern: \n",
    "\n",
    "**{<DT|PP|PRP$>?<JJ.>+<JJ.><NN.*>+}**\n",
    "\n",
    "e.g. *[Tree('NP', [('investigative', 'JJ'), ('reporter', 'NN'), ('Eddie', 'NNP'), ('Brock', 'NNP')]),* \n",
    "\n",
    "*Tree('NP', [('the', 'DT'), ('alien', 'JJ'), ('symbiote', 'NN')]), Tree('NP', [('a', 'DT'), ('new', 'JJ'), ('enemy', 'NN')]),* \n",
    "\n",
    "*Tree('NP', [('serial', 'JJ'), ('killer', 'NN'), ('Cletus', 'NNP'), ('Kasady', 'NNP')])]* \n",
    "\n"
   ]
  },
  {
   "cell_type": "code",
   "execution_count": 15,
   "metadata": {},
   "outputs": [],
   "source": [
    "def getTokensTagsAndCharNPChunks(overview):\n",
    "    sentences = nltk.sent_tokenize(overview) # split in sentences\n",
    "    tokens = [nltk.word_tokenize(sent) for sent in sentences] #split in words (tokens)\n",
    "    tags = [nltk.pos_tag(token) for token in tokens] #add tag (noun, verb, adj...)\n",
    "    expressions = getCharacterNounPhraseChunks(tags)\n",
    "    return expressions"
   ]
  },
  {
   "cell_type": "code",
   "execution_count": 16,
   "metadata": {},
   "outputs": [
    {
     "name": "stdout",
     "output_type": "stream",
     "text": [
      "[Tree('NP', [('investigative', 'JJ'), ('reporter', 'NN'), ('Eddie', 'NNP'), ('Brock', 'NNP')]), Tree('NP', [('the', 'DT'), ('alien', 'JJ'), ('symbiote', 'NN')]), Tree('NP', [('a', 'DT'), ('new', 'JJ'), ('enemy', 'NN')]), Tree('NP', [('serial', 'JJ'), ('killer', 'NN'), ('Cletus', 'NNP'), ('Kasady', 'NNP')])]\n"
     ]
    }
   ],
   "source": [
    "#Test\n",
    "overview= \"After finding a host body in investigative reporter Eddie Brock, the alien symbiote must face a new enemy, Carnage, the alter ego of serial killer Cletus Kasady.\"\n",
    "tokens = getTokensTagsAndCharNPChunks(overview)\n",
    "print(tokens)\n"
   ]
  },
  {
   "cell_type": "markdown",
   "metadata": {},
   "source": [
    "-----"
   ]
  },
  {
   "cell_type": "markdown",
   "metadata": {},
   "source": [
    "Give one or more character's name(s) and a chunk as a parameter, this function returns true if the character appears in the chunk. "
   ]
  },
  {
   "cell_type": "code",
   "execution_count": 17,
   "metadata": {},
   "outputs": [],
   "source": [
    "def hasChunkTheCharacter(character,chunk):    \n",
    "    for word in chunk:\n",
    "        for name in character:\n",
    "            for part in name.split():\n",
    "                if part == word[0]:\n",
    "                    return True\n",
    "    return False"
   ]
  },
  {
   "cell_type": "code",
   "execution_count": 18,
   "metadata": {},
   "outputs": [
    {
     "data": {
      "text/plain": [
       "True"
      ]
     },
     "execution_count": 18,
     "metadata": {},
     "output_type": "execute_result"
    }
   ],
   "source": [
    "# test\n",
    "character = ['Eddie Brock', 'Venom']\n",
    "chunk = Tree('NP', [('investigative', 'JJ'), ('reporter', 'NN'), ('Eddie', 'NNP'), ('Brock', 'NNP')])\n",
    "\n",
    "hasChunkTheCharacter(character,chunk)"
   ]
  },
  {
   "cell_type": "markdown",
   "metadata": {},
   "source": [
    "----"
   ]
  },
  {
   "cell_type": "markdown",
   "metadata": {},
   "source": [
    "Given a list of chunks as a parameter (allChunks) and the name (or the names) of one character, it returns the chunks that name that character"
   ]
  },
  {
   "cell_type": "code",
   "execution_count": 19,
   "metadata": {},
   "outputs": [],
   "source": [
    "def getChunksWithCharacter(character, allChunks):\n",
    "    \n",
    "    \n",
    "    characterChunks = []\n",
    "    \n",
    "    for chunk in allChunks:\n",
    "        if hasChunkTheCharacter(character,chunk):\n",
    "            characterChunks.append(chunk)\n",
    "    \n",
    "    return characterChunks       \n",
    "        \n",
    "            "
   ]
  },
  {
   "cell_type": "code",
   "execution_count": 20,
   "metadata": {},
   "outputs": [
    {
     "data": {
      "text/plain": [
       "[Tree('NP', [('investigative', 'JJ'), ('reporter', 'NN'), ('Eddie', 'NNP'), ('Brock', 'NNP')])]"
      ]
     },
     "execution_count": 20,
     "metadata": {},
     "output_type": "execute_result"
    }
   ],
   "source": [
    "#Test \n",
    "\n",
    "character = ['Eddie Brock', 'Venom']\n",
    "allChunks = [Tree('NP', [('investigative', 'JJ'), ('reporter', 'NN'), ('Eddie', 'NNP'), ('Brock', 'NNP')]), \n",
    "             Tree('NP', [('the', 'DT'), ('alien', 'JJ'), ('symbiote', 'NN')]), \n",
    "             Tree('NP', [('a', 'DT'), ('new', 'JJ'), ('enemy', 'NN')]), \n",
    "             Tree('NP', [('serial', 'JJ'), ('killer', 'NN'), ('Cletus', 'NNP'), ('Kasady', 'NNP')])]\n",
    "\n",
    "\n",
    "getChunksWithCharacter(character, allChunks)"
   ]
  },
  {
   "cell_type": "code",
   "execution_count": 21,
   "metadata": {
    "scrolled": true
   },
   "outputs": [
    {
     "data": {
      "text/plain": [
       "[Tree('NP', [('a', 'DT'), ('new', 'JJ'), ('enemy', 'NN')])]"
      ]
     },
     "execution_count": 21,
     "metadata": {},
     "output_type": "execute_result"
    }
   ],
   "source": [
    "#Test\n",
    "\n",
    "character = \"Cletus Kasady\"\n",
    "allChunks = [Tree('NP', [('investigative', 'JJ'), ('reporter', 'NN'), ('Eddie', 'NNP'), ('Brock', 'NNP')]), \n",
    "             Tree('NP', [('the', 'DT'), ('alien', 'JJ'), ('symbiote', 'NN')]), \n",
    "             Tree('NP', [('a', 'DT'), ('new', 'JJ'), ('enemy', 'NN')]), \n",
    "             Tree('NP', [('serial', 'JJ'), ('killer', 'NN'), ('Cletus', 'NNP'), ('Kasady', 'NNP')])]\n",
    "\n",
    "\n",
    "getChunksWithCharacter(character, allChunks)"
   ]
  },
  {
   "cell_type": "markdown",
   "metadata": {},
   "source": [
    "---"
   ]
  },
  {
   "cell_type": "markdown",
   "metadata": {},
   "source": [
    "### Get NP chunks where a character is named, from an line of the csv file"
   ]
  },
  {
   "cell_type": "markdown",
   "metadata": {},
   "source": [
    "Given a row of the csv file:\n",
    "\n",
    "e.g.\n",
    "\n",
    "*line =\\\n",
    "        ['580489', \n",
    "        'Venom: Let There Be Carnage', \\\n",
    "        'Eddie Brock / Venom', 'Tom Hardy', 'Male', '2524', \\\n",
    "        'Cletus Kasady / Carnage', 'Woody Harrelson', 'Male', '57755', \\\n",
    "        'Anne Weying', 'Michelle Williams', 'Female', '1812', \\\n",
    "        'Frances Louise Barrison / Shriek', 'Naomie Harris', 'Female', '2038', \\\n",
    "        'After finding a host body in investigative reporter Eddie Brock, \\\n",
    "         the alien symbiote must face a new enemy, Carnage, the alter ego of serial killer Cletus Kasady.']*\n",
    "         \n",
    "         \n",
    "this function returns the NP Chunks where the characters are named + the name(s) of the character + gender + person id \n",
    "\n",
    "e.g.\n",
    "\n",
    "*[[['Eddie Brock', 'Venom'], 'Male', '2524'], [Tree('NP', [('investigative', 'JJ'), ('reporter', 'NN'), ('Eddie', 'NNP'), ('Brock', 'NNP')])]]\n",
    "[[['Cletus Kasady', 'Carnage'], 'Male', '57755'], [Tree('NP', [('serial', 'JJ'), ('killer', 'NN'), ('Cletus', 'NNP'), ('Kasady', 'NNP')])]]*\n"
   ]
  },
  {
   "cell_type": "code",
   "execution_count": 22,
   "metadata": {},
   "outputs": [],
   "source": [
    "def getNPs(line):\n",
    "    \n",
    "    allCharacterChunks = []\n",
    "    \n",
    "    sentences = getSentencesAboutAnyCharacter(line)\n",
    "    \n",
    "    for sentence in sentences:\n",
    "        character = sentence[0]\n",
    "        overview = sentence[1]        \n",
    "        allChunks = getTokensTagsAndCharNPChunks(overview)\n",
    "        characterChunks= getChunksWithCharacter(character[0], allChunks)\n",
    "        if len(characterChunks) > 0:\n",
    "            allCharacterChunks.append([character, characterChunks])\n",
    "        \n",
    "    return allCharacterChunks\n",
    "        "
   ]
  },
  {
   "cell_type": "code",
   "execution_count": 23,
   "metadata": {
    "scrolled": true
   },
   "outputs": [
    {
     "name": "stdout",
     "output_type": "stream",
     "text": [
      "[[['Eddie Brock', 'Venom'], 'Male', '2524'], [Tree('NP', [('investigative', 'JJ'), ('reporter', 'NN'), ('Eddie', 'NNP'), ('Brock', 'NNP')])]]\n",
      "[[['Cletus Kasady', 'Carnage'], 'Male', '57755'], [Tree('NP', [('serial', 'JJ'), ('killer', 'NN'), ('Cletus', 'NNP'), ('Kasady', 'NNP')])]]\n"
     ]
    }
   ],
   "source": [
    "# test\n",
    "line = ['580489', \n",
    "        'Venom: Let There Be Carnage', \n",
    "        'Eddie Brock / Venom', 'Tom Hardy', 'Male', '2524', \n",
    "        'Cletus Kasady / Carnage', 'Woody Harrelson', 'Male', '57755', \n",
    "        'Anne Weying', 'Michelle Williams', 'Female', '1812', \n",
    "        'Frances Louise Barrison / Shriek', 'Naomie Harris', 'Female', '2038', \n",
    "        'After finding a host body in investigative reporter Eddie Brock, \\\n",
    "         the alien symbiote must face a new enemy, Carnage, the alter ego of serial killer Cletus Kasady.']\n",
    "\n",
    "nps = getNPs(line)\n",
    "for np in nps:\n",
    "    print(np)\n",
    "\n"
   ]
  },
  {
   "cell_type": "markdown",
   "metadata": {},
   "source": [
    "----"
   ]
  },
  {
   "cell_type": "markdown",
   "metadata": {},
   "source": [
    "### Get Adjetives from a NP Chunk:"
   ]
  },
  {
   "cell_type": "markdown",
   "metadata": {},
   "source": [
    "Gives one NP chunk as a parameter \"nounPhraseChunk\", and a list of character name(s):\n",
    "\n",
    "e.g.\n",
    "*nounPhraseChunk = Tree('NP', [('investigative', 'JJ'), ('reporter', 'NN'), ('Eddie', 'NNP'), ('Brock', 'NNP')])*\n",
    "*characterNames = ['Eddie Brock', 'Venom']* \n",
    "\n",
    "Get the adjetives o names (that represents a role) of that NP Chunk (but not the name, determinant, conjuntion, u other tokens of the sentence)\n",
    "\n",
    "e.g.\n",
    "*['investigative', 'reporter']* \n"
   ]
  },
  {
   "cell_type": "code",
   "execution_count": 24,
   "metadata": {},
   "outputs": [],
   "source": [
    "def getAdjetivesAndRemoveCharacterName(nounPhraseChunk:Tree, characterNames:list):    \n",
    "    \n",
    "    # create all the combinations: only name, only surname, complete name, etc.. in characterNames\n",
    "    allCombinations = []\n",
    "    for name in characterNames:\n",
    "        allCombinations.append(name)\n",
    "    \n",
    "    for name in characterNames:\n",
    "        for part in name.split():\n",
    "            if part not in characterNames:\n",
    "                allCombinations.append(part)\n",
    "    \n",
    "    #remove name and adjetives    \n",
    "    adjetives = []\n",
    "    for part in nounPhraseChunk:\n",
    "        if part[0] not in allCombinations and part[0]!='–' and part[1] != 'PRP$' and part[1] != 'DT' and part[1] != 'CC' and part[1] != 'JJS':\n",
    "            adjetives.append(part[0].lower())        \n",
    "\n",
    "    return adjetives\n"
   ]
  },
  {
   "cell_type": "code",
   "execution_count": 25,
   "metadata": {},
   "outputs": [
    {
     "data": {
      "text/plain": [
       "['investigative', 'reporter']"
      ]
     },
     "execution_count": 25,
     "metadata": {},
     "output_type": "execute_result"
    }
   ],
   "source": [
    "# Test\n",
    "np = Tree('NP', [('investigative', 'JJ'), ('reporter', 'NN'), ('Eddie', 'NNP'), ('Brock', 'NNP')])\n",
    "characterNames = ['Eddie Brock', 'Venom']\n",
    "getAdjetivesAndRemoveCharacterName(np, characterNames)"
   ]
  },
  {
   "cell_type": "markdown",
   "metadata": {},
   "source": [
    "---"
   ]
  },
  {
   "cell_type": "markdown",
   "metadata": {},
   "source": [
    "Given a list with the character names, reduce it to the three first names (if there are less than three fill with empty strings) for the csv.\n",
    "If we have more than three an error is printed"
   ]
  },
  {
   "cell_type": "code",
   "execution_count": 26,
   "metadata": {},
   "outputs": [],
   "source": [
    "def getThreeNames(characterNames:list):\n",
    "    \n",
    "    names = characterNames\n",
    "    lenNamesList = len(names)\n",
    "    if lenNamesList <= 3:\n",
    "        for i in range(0, 3-lenNamesList):\n",
    "            names.append(\"\")\n",
    "    else:\n",
    "        print(\"Error! I found more than three names for a character!!! \", characterNames)\n",
    "    \n",
    "    return names\n",
    "    "
   ]
  },
  {
   "cell_type": "code",
   "execution_count": 27,
   "metadata": {},
   "outputs": [
    {
     "data": {
      "text/plain": [
       "['Eddie Brock', 'Venom', '']"
      ]
     },
     "execution_count": 27,
     "metadata": {},
     "output_type": "execute_result"
    }
   ],
   "source": [
    "# Test\n",
    "characterNames = ['Eddie Brock', 'Venom']\n",
    "getThreeNames(characterNames)"
   ]
  },
  {
   "cell_type": "markdown",
   "metadata": {},
   "source": [
    "---"
   ]
  },
  {
   "cell_type": "markdown",
   "metadata": {},
   "source": [
    "### Builds a row for the output CSV file"
   ]
  },
  {
   "cell_type": "markdown",
   "metadata": {},
   "source": [
    "returns one or several rows with this fields: \n",
    "\n",
    "year, movieid, charactername1; charactername2; charactername3; sex; actorid; adj;\n",
    "\n",
    "one row for each adjetive: "
   ]
  },
  {
   "cell_type": "code",
   "execution_count": 28,
   "metadata": {},
   "outputs": [],
   "source": [
    "def getCSVSingleAdejetiveRow(year, movieid, np):\n",
    "    \n",
    "    rows = []\n",
    "    \n",
    "    character = np[0]\n",
    "    threeCharacterNames = getThreeNames(character[0])\n",
    "    characterSex = character[1]     \n",
    "    characterIdPerson = character[2]\n",
    "    adjetives = getAdjetivesAndRemoveCharacterName(np[1][0], threeCharacterNames)\n",
    "    \n",
    "     # year, movieid, charactername1; charactername2; charactername3; sex; actorid; adj;\n",
    "    for adj in adjetives:\n",
    "        row = []  \n",
    "        row.append(year)\n",
    "        row.append(movieid)\n",
    "\n",
    "        for tname in threeCharacterNames:\n",
    "            row.append(tname)\n",
    "\n",
    "        row.append(characterSex)\n",
    "        row.append(characterIdPerson)    \n",
    "        row.append(adj)\n",
    "        \n",
    "        rows.append(row)\n",
    "        \n",
    "    \n",
    "    \n",
    "    return rows\n",
    "    \n",
    "    \n"
   ]
  },
  {
   "cell_type": "code",
   "execution_count": 29,
   "metadata": {},
   "outputs": [
    {
     "data": {
      "text/plain": [
       "[[2021, 580489, 'Eddie Brock', 'Venom', '', 'Male', '2524', 'investigative'],\n",
       " [2021, 580489, 'Eddie Brock', 'Venom', '', 'Male', '2524', 'reporter']]"
      ]
     },
     "execution_count": 29,
     "metadata": {},
     "output_type": "execute_result"
    }
   ],
   "source": [
    "year=2021\n",
    "movieid=580489\n",
    "np = [[['Eddie Brock', 'Venom'], 'Male', '2524'], [Tree('NP', [('investigative', 'JJ'), ('reporter', 'NN'), ('Eddie', 'NNP'), ('Brock', 'NNP')])]]\n",
    "\n",
    "getCSVSingleAdejetiveRow(year, movieid, np)"
   ]
  },
  {
   "cell_type": "markdown",
   "metadata": {},
   "source": [
    "------------"
   ]
  },
  {
   "cell_type": "markdown",
   "metadata": {},
   "source": [
    "------------"
   ]
  },
  {
   "cell_type": "markdown",
   "metadata": {},
   "source": [
    "### Main\n"
   ]
  },
  {
   "cell_type": "markdown",
   "metadata": {},
   "source": [
    "   Open CSV:"
   ]
  },
  {
   "cell_type": "code",
   "execution_count": 30,
   "metadata": {
    "scrolled": false
   },
   "outputs": [],
   "source": [
    "total_rows_female = []\n",
    "total_rows_male = []\n",
    "total_rows_unknown = []\n",
    "\n",
    "for year in range(2021, 2022):\n",
    "    file_title = 'csv2/movies_'+str(year)+'.csv'\n",
    "    with open(file_title, mode='r',  encoding='utf-8') as file:\n",
    "        csvFile = csv.reader(file, delimiter = ';')\n",
    "\n",
    "        csv_headings = next(csvFile)   # print (csv_headings)\n",
    "\n",
    "        for (line,i) in zip(csvFile, range(0,300)):  \n",
    "            nps = getNPs(line)\n",
    "            if len(nps)> 0:\n",
    "                for np in nps:\n",
    "                    rows = getCSVSingleAdejetiveRow(year, line[0], np)\n",
    "                    for row in rows:\n",
    "                        if row[5] == 'Female':\n",
    "                            total_rows_female.append(row)\n",
    "                        elif row[5] == 'Male':\n",
    "                            total_rows_male.append(row)                        \n",
    "                        else:\n",
    "                            total_rows_unknown.append(row)\n",
    "                        \n",
    "                        \n",
    "\n",
    "        "
   ]
  },
  {
   "cell_type": "markdown",
   "metadata": {},
   "source": [
    "Write to csv - females"
   ]
  },
  {
   "cell_type": "code",
   "execution_count": 31,
   "metadata": {},
   "outputs": [],
   "source": [
    "header = ['year', 'movieid', 'charactername1', 'charactername2', 'charactername3', 'sex', 'actorid', 'adj']\n",
    "\n",
    "\n",
    "# open the file in the write mode\n",
    "csvfile = open('csv2/file_individual_adj_female.csv', 'w', encoding='UTF8', newline='')\n",
    "\n",
    "# create the csv writer\n",
    "csv_writer = csv.writer(csvfile, delimiter = ';')\n",
    "\n",
    "# write the header to the csv file\n",
    "csv_writer.writerow(header)\n",
    "\n",
    "for row in total_rows_female:  \n",
    "    csv_writer.writerow(row)\n",
    "\n",
    "# close the file\n",
    "csvfile.close()"
   ]
  },
  {
   "cell_type": "markdown",
   "metadata": {},
   "source": [
    "Write to csv - male"
   ]
  },
  {
   "cell_type": "code",
   "execution_count": 32,
   "metadata": {
    "scrolled": false
   },
   "outputs": [],
   "source": [
    "\n",
    "header = ['year', 'movieid', 'charactername1', 'charactername2', 'charactername3', 'sex', 'actorid', 'adj']\n",
    "\n",
    "\n",
    "# open the file in the write mode\n",
    "csvfile = open('csv2/file_individual_adj_male.csv', 'w', encoding='UTF8', newline='')\n",
    "\n",
    "# create the csv writer\n",
    "csv_writer = csv.writer(csvfile, delimiter = ';')\n",
    "\n",
    "# write the header to the csv file\n",
    "csv_writer.writerow(header)\n",
    "\n",
    "for row in total_rows_male:  \n",
    "    csv_writer.writerow(row)\n",
    "\n",
    "# close the file\n",
    "csvfile.close()\n",
    "        \n"
   ]
  },
  {
   "cell_type": "markdown",
   "metadata": {},
   "source": [
    "Write to csv - others (unknown)"
   ]
  },
  {
   "cell_type": "code",
   "execution_count": 33,
   "metadata": {},
   "outputs": [],
   "source": [
    "header = ['year', 'movieid', 'charactername1', 'charactername2', 'charactername3', 'sex', 'actorid', 'adj']\n",
    "\n",
    "\n",
    "# open the file in the write mode\n",
    "csvfile = open('csv2/file_individual_adj_others.csv', 'w', encoding='UTF8', newline='')\n",
    "\n",
    "# create the csv writer\n",
    "csv_writer = csv.writer(csvfile, delimiter = ';')\n",
    "\n",
    "# write the header to the csv file\n",
    "csv_writer.writerow(header)\n",
    "\n",
    "for row in total_rows_unknown:  \n",
    "    csv_writer.writerow(row)\n",
    "\n",
    "# close the file\n",
    "csvfile.close()"
   ]
  },
  {
   "cell_type": "code",
   "execution_count": null,
   "metadata": {},
   "outputs": [],
   "source": [
    "        "
   ]
  }
 ],
 "metadata": {
  "kernelspec": {
   "display_name": "Python 3.7 - default",
   "language": "python",
   "name": "py37_default"
  },
  "language_info": {
   "codemirror_mode": {
    "name": "ipython",
    "version": 3
   },
   "file_extension": ".py",
   "mimetype": "text/x-python",
   "name": "python",
   "nbconvert_exporter": "python",
   "pygments_lexer": "ipython3",
   "version": "3.7.7"
  }
 },
 "nbformat": 4,
 "nbformat_minor": 4
}
